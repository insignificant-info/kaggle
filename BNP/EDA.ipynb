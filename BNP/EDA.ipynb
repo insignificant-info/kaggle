{
 "cells": [
  {
   "cell_type": "code",
   "execution_count": 1,
   "metadata": {
    "collapsed": true
   },
   "outputs": [],
   "source": [
    "%matplotlib notebook\n",
    "import pandas as pd\n",
    "import numpy as np\n",
    "\n",
    "import csv\n",
    "import os\n",
    "import sys\n",
    "\n",
    "from sklearn.cross_validation import cross_val_score, train_test_split\n",
    "from sklearn.externals import joblib\n",
    "from sklearn.metrics import log_loss\n",
    "import xgboost as xgb\n",
    "\n",
    "import matplotlib.pyplot as plt\n",
    "import mca"
   ]
  },
  {
   "cell_type": "code",
   "execution_count": 2,
   "metadata": {
    "collapsed": false
   },
   "outputs": [
    {
     "name": "stdout",
     "output_type": "stream",
     "text": [
      "Load data...\n"
     ]
    }
   ],
   "source": [
    "print('Load data...')\n",
    "train = pd.read_csv('data/train.csv')\n",
    "target = train['target']\n",
    "train = train.drop(['ID','target'],axis=1)\n",
    "test = pd.read_csv('data/test.csv')\n",
    "ids = test['ID'].values\n",
    "test = test.drop(['ID'],axis=1)"
   ]
  },
  {
   "cell_type": "code",
   "execution_count": 3,
   "metadata": {
    "collapsed": true
   },
   "outputs": [],
   "source": [
    "def dummify(name,series):\n",
    "    prefix_string = name + '_'\n",
    "    dummies = pd.get_dummies(series,prefix=prefix_string)\n",
    "    dummy_column_names = dummies.columns.values\n",
    "    #Get a list of all rows containing nulls. After dummifying these rows will just have all zeros for dummy variable\n",
    "    get_nulls = np.where(series.isnull() == True)[0].tolist()\n",
    "\n",
    "    return dummies, dummy_column_names, get_nulls"
   ]
  },
  {
   "cell_type": "code",
   "execution_count": 31,
   "metadata": {
    "collapsed": false
   },
   "outputs": [
    {
     "name": "stdout",
     "output_type": "stream",
     "text": [
      "[[ 0.71740692 -0.11085994 -0.36322171 -0.5350364   0.58393567  3.39419876]\n",
      " [ 0.71740692 -0.7341013  -1.77000934  2.50179662  2.31945524 -1.54817725]\n",
      " [ 0.71740692  0.20408484  0.10705424 -2.94478259  0.17094468 -1.8055955 ]\n",
      " ..., \n",
      " [ 0.71740692  0.20408484  0.10705424 -2.94478259  0.17094468 -1.8055955 ]\n",
      " [ 0.71740692  0.20408484  0.10705424 -2.94478259  0.17094468 -1.8055955 ]\n",
      " [ 0.71740692 -0.7341013  -1.77000934  2.50179662  2.31945524 -1.54817725]]\n"
     ]
    },
    {
     "data": {
      "text/plain": [
       "(500, 6)"
      ]
     },
     "execution_count": 31,
     "metadata": {},
     "output_type": "execute_result"
    }
   ],
   "source": [
    "columns_mca = ['v107','v91']\n",
    "mca_df = mca.mca(train[columns_mca].iloc[0:500],columns_mca)\n",
    "print mca_df.fs_r(1)\n",
    "mca_df.fs_r(1).shape"
   ]
  },
  {
   "cell_type": "code",
   "execution_count": 32,
   "metadata": {
    "collapsed": false
   },
   "outputs": [],
   "source": []
  },
  {
   "cell_type": "code",
   "execution_count": 74,
   "metadata": {
    "collapsed": false
   },
   "outputs": [
    {
     "name": "stdout",
     "output_type": "stream",
     "text": [
      "220\n",
      "112\n",
      "v8: ['v25', 'v46', 'v63', 'v105']\n",
      "v10: ['v12']\n",
      "v11: ['v53']\n",
      "v12: ['v10']\n",
      "v13: ['v104']\n",
      "v15: ['v32', 'v73']\n",
      "v17: ['v64', 'v76']\n",
      "v20: ['v65']\n",
      "v25: ['v8', 'v46', 'v54', 'v63', 'v89', 'v105']\n",
      "v26: ['v43', 'v60']\n",
      "v29: ['v41', 'v67', 'v77', 'v96']\n",
      "v32: ['v15', 'v73', 'v86']\n",
      "v33: ['v55', 'v83', 'v111', 'v121']\n",
      "v34: ['v114']\n",
      "v41: ['v29', 'v49', 'v67', 'v96']\n",
      "v43: ['v26', 'v116']\n",
      "v46: ['v8', 'v25', 'v54', 'v63', 'v89', 'v105']\n",
      "v49: ['v41']\n",
      "v53: ['v11']\n",
      "v54: ['v25', 'v46', 'v63', 'v89', 'v105']\n",
      "v55: ['v33', 'v83']\n",
      "v60: ['v26']\n",
      "v63: ['v8', 'v25', 'v46', 'v54', 'v89', 'v105']\n",
      "v64: ['v17', 'v76', 'v106']\n",
      "v65: ['v20']\n",
      "v67: ['v29', 'v41', 'v77']\n",
      "v73: ['v15', 'v32']\n",
      "v76: ['v17', 'v64']\n",
      "v77: ['v29', 'v67']\n",
      "v83: ['v33', 'v55', 'v111', 'v121']\n",
      "v86: ['v32']\n",
      "v89: ['v25', 'v46', 'v54', 'v63', 'v105']\n",
      "v92: ['v95']\n",
      "v95: ['v92']\n",
      "v96: ['v29', 'v41']\n",
      "v97: ['v118']\n",
      "v104: ['v13']\n",
      "v105: ['v8', 'v25', 'v46', 'v54', 'v63', 'v89']\n",
      "v106: ['v64']\n",
      "v108: ['v128']\n",
      "v109: ['v128']\n",
      "v111: ['v33', 'v83']\n",
      "v114: ['v34']\n",
      "v116: ['v43']\n",
      "v118: ['v97']\n",
      "v121: ['v33', 'v83']\n",
      "v128: ['v108', 'v109']\n",
      "dropping = ['v46', 'v63', 'v105', 'v8']\n",
      "keeping = v25\n",
      "dropping = ['v12']\n",
      "keeping = v10\n",
      "dropping = ['v11']\n",
      "keeping = v53\n",
      "dropping = ['v13']\n",
      "keeping = v104\n",
      "dropping = ['v73', 'v15']\n",
      "keeping = v32\n",
      "dropping = ['v76', 'v17']\n",
      "keeping = v64\n",
      "dropping = ['v20']\n",
      "keeping = v65\n",
      "dropping = ['v46', 'v54', 'v63', 'v89', 'v105', 'v25']\n",
      "keeping = v8\n",
      "dropping = ['v43', 'v26']\n",
      "keeping = v60\n",
      "dropping = ['v67', 'v77', 'v96', 'v29']\n",
      "keeping = v41\n",
      "dropping = ['v15', 'v73', 'v32']\n",
      "keeping = v86\n",
      "dropping = ['v83', 'v111', 'v121', 'v33']\n",
      "keeping = v55\n",
      "dropping = ['v34']\n",
      "keeping = v114\n",
      "dropping = ['v49', 'v67', 'v96', 'v41']\n",
      "keeping = v29\n",
      "dropping = ['v76', 'v106', 'v64']\n",
      "keeping = v17\n",
      "dropping = ['v92']\n",
      "keeping = v95\n",
      "dropping = ['v97']\n",
      "keeping = v118\n",
      "dropping = ['v108']\n",
      "keeping = v128\n",
      "dropping = ['v109']\n",
      "keeping = v128\n",
      "set(['v32', 'v33', 'v34', 'v12', 'v13', 'v76', 'v11', 'v17', 'v73', 'v77', 'v111', 'v41', 'v43', 'v89', 'v46', 'v49', 'v83', 'v20', 'v26', 'v25', 'v67', 'v29', 'v64', 'v63', 'v121', 'v8', 'v15', 'v92', 'v96', 'v97', 'v109', 'v108', 'v106', 'v105', 'v54'])\n"
     ]
    }
   ],
   "source": [
    "corr = train.corr()\n",
    "\n",
    "to_drop = set()\n",
    "# for col in corr.columns.values:\n",
    "#     list_correlated = corr[col][(corr[col] > 0.9) & (corr[col] < 1)].index.tolist()\n",
    "#     if len(list_correlated) > 0:\n",
    "#         sys.stdout.write(col + \": \")\n",
    "#         print list_correlated\n",
    "for col in corr.columns.values:\n",
    "    if col in to_drop:\n",
    "        continue\n",
    "\n",
    "    col_list = corr[col][(corr[col] > 0.9) & (corr[col] < 1)].index.tolist()\n",
    "    col_set = set(col_list)\n",
    "    col_set.difference_update(to_drop)\n",
    "    if (len(col_list) == 0) or (len(col_set) == 0):\n",
    "        continue\n",
    "\n",
    "    col_list.append(col)\n",
    "    lowest_na_count = train[col_list[0]].isnull().sum()\n",
    "    best_col = col_list[0]\n",
    "    for option in col_list:\n",
    "        na_count = train[option].isnull().sum()\n",
    "        if na_count < lowest_na_count:\n",
    "            lowest_na_count = na_count\n",
    "            best_col = option\n",
    "    col_list.remove(best_col)\n",
    "    print 'dropping = ' + str(col_list)\n",
    "    print 'keeping = ' + str(best_col)\n",
    "    to_drop.update(col_list)\n"
   ]
  },
  {
   "cell_type": "code",
   "execution_count": 73,
   "metadata": {
    "collapsed": false
   },
   "outputs": [
    {
     "name": "stdout",
     "output_type": "stream",
     "text": [
      "None\n",
      "0\n"
     ]
    }
   ],
   "source": []
  },
  {
   "cell_type": "code",
   "execution_count": 5,
   "metadata": {
    "collapsed": false
   },
   "outputs": [
    {
     "name": "stdout",
     "output_type": "stream",
     "text": [
      "Clearing...\n",
      "Dummifying v3\n",
      "Dummifying v24\n",
      "Dummifying v30\n",
      "Dummifying v31\n",
      "Dummifying v47\n",
      "Dummifying v52\n",
      "Dummifying v56\n",
      "Dummifying v66\n",
      "Dummifying v71\n",
      "Dummifying v74\n",
      "Dummifying v75\n",
      "Dummifying v79\n",
      "Dummifying v91\n",
      "Dummifying v107\n",
      "Dummifying v110\n",
      "Dummifying v112\n",
      "Dummifying v113\n",
      "Dummifying v125\n"
     ]
    }
   ],
   "source": [
    "print('Clearing...')\n",
    "\n",
    "drop_correlated = True\n",
    "\n",
    "train_dummy_columns = {}\n",
    "train_nulls_dict = {}\n",
    "test_dummy_columns = {}\n",
    "test_nulls_dict = {}\n",
    "\n",
    "\n",
    "cleaned_train = train.copy()\n",
    "cleaned_test = test.copy()\n",
    "if drop_correlated = True:\n",
    "    cleaned_train.drop(list(to_drop),axis=1, inplace = True)\n",
    "    cleaned_test.drop(list(to_drop),axis=1, inplace = True)\n",
    "\n",
    "for (train_name, train_series), (test_name, test_series) in zip(train.iteritems(),test.iteritems()):\n",
    "    if train_name == 'v22':\n",
    "        #v22 has too many options to dummify, instead: factorize\n",
    "        cleaned_train[train_name], tmp_indexer = pd.factorize(train[train_name])\n",
    "        cleaned_test[test_name] = tmp_indexer.get_indexer(test[test_name])\n",
    "        #but now we have -1 values (NaN)    \n",
    "    elif train_series.dtype == 'O':\n",
    "        print 'Dummifying ' + train_name\n",
    "        cleaned_train.drop(train_name,axis=1,inplace = True)\n",
    "        cleaned_test.drop(train_name,axis=1,inplace = True)\n",
    "        \n",
    "        train_dummies, train_dummy_list, train_null_list = dummify(train_name,train_series)\n",
    "        test_dummies, test_dummy_list, test_null_list = dummify(test_name,test_series)\n",
    "\n",
    "        cleaned_train = pd.concat([cleaned_train,train_dummies], axis = 1)\n",
    "        cleaned_test = pd.concat([cleaned_test,test_dummies], axis = 1)\n",
    "\n",
    "        train_dummy_columns[train_name] = train_dummy_list\n",
    "        train_nulls_dict[train_name] = train_null_list\n",
    "        test_dummy_columns[test_name] = test_dummy_list\n",
    "        test_nulls_dict[test_name] = test_null_list\n",
    "        \n",
    "    else:\n",
    "        #for int or float: fill NaN\n",
    "        tmp_len = len(train[train_series.isnull()])\n",
    "        if tmp_len>0:\n",
    "            cleaned_train.loc[train_series.isnull(), train_name] = train_series.mean()\n",
    "        #and Test\n",
    "        tmp_len = len(test[test_series.isnull()])\n",
    "        if tmp_len>0:\n",
    "            cleaned_test.loc[test_series.isnull(), test_name] = train_series.mean()  #TODO"
   ]
  },
  {
   "cell_type": "code",
   "execution_count": 20,
   "metadata": {
    "collapsed": false
   },
   "outputs": [
    {
     "name": "stdout",
     "output_type": "stream",
     "text": [
      "[[ 2.50645476  0.9426352   1.13715451 -0.18280678  0.70024693  1.80532343]\n",
      " [ 0.71285863 -0.36968589 -0.35129349 -2.04263397  0.70024693 -3.26952334]\n",
      " [-1.51327043 -1.67259667 -2.25775578 -0.59779855  0.70024693  1.84863394]\n",
      " ..., \n",
      " [-1.51327043 -1.67259667 -2.25775578 -0.59779855  0.70024693  1.84863394]\n",
      " [-1.51327043 -1.67259667 -2.25775578 -0.59779855  0.70024693  1.84863394]\n",
      " [ 2.50645476  0.9426352   1.13715451 -0.18280678  0.70024693  1.80532343]]\n"
     ]
    },
    {
     "data": {
      "text/plain": [
       "(5000, 6)"
      ]
     },
     "execution_count": 20,
     "metadata": {},
     "output_type": "execute_result"
    }
   ],
   "source": []
  },
  {
   "cell_type": "code",
   "execution_count": 18,
   "metadata": {
    "collapsed": false
   },
   "outputs": [
    {
     "name": "stdout",
     "output_type": "stream",
     "text": [
      "['E' 'B' 'C' 'D' 'A' 'F' 'G' nan]\n",
      "['A' 'B' 'G' 'C' 'F' 'E' 'D' nan]\n"
     ]
    }
   ],
   "source": [
    "\n"
   ]
  },
  {
   "cell_type": "code",
   "execution_count": null,
   "metadata": {
    "collapsed": true
   },
   "outputs": [],
   "source": []
  }
 ],
 "metadata": {
  "kernelspec": {
   "display_name": "Python 2",
   "language": "python",
   "name": "python2"
  },
  "language_info": {
   "codemirror_mode": {
    "name": "ipython",
    "version": 2
   },
   "file_extension": ".py",
   "mimetype": "text/x-python",
   "name": "python",
   "nbconvert_exporter": "python",
   "pygments_lexer": "ipython2",
   "version": "2.7.9"
  }
 },
 "nbformat": 4,
 "nbformat_minor": 0
}
