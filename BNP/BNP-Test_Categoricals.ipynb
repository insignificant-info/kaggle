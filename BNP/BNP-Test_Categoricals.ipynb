{
 "cells": [
  {
   "cell_type": "code",
   "execution_count": 15,
   "metadata": {
    "collapsed": false
   },
   "outputs": [],
   "source": [
    "%matplotlib inline\n",
    "import pandas as pd\n",
    "import numpy as np\n",
    "\n",
    "import csv\n",
    "import os\n",
    "import sys\n",
    "\n",
    "from sklearn.cross_validation import cross_val_score, train_test_split\n",
    "from sklearn.externals import joblib\n",
    "from sklearn.metrics import log_loss\n",
    "import xgboost as xgb\n",
    "\n",
    "import matplotlib.pyplot as plt\n",
    "import seaborn as sns"
   ]
  },
  {
   "cell_type": "code",
   "execution_count": 2,
   "metadata": {
    "collapsed": false
   },
   "outputs": [
    {
     "name": "stdout",
     "output_type": "stream",
     "text": [
      "Load data...\n"
     ]
    }
   ],
   "source": [
    "# XGBoost params:\n",
    "xgboost_params = { \n",
    "   \"objective\": \"binary:logistic\",\n",
    "   \"booster\": \"gbtree\",\n",
    "   \"eval_metric\": [\"auc\",\"error\",\"map\",\"logloss\"],\n",
    "   \"eta\": 0.01, # 0.06, #0.01,\n",
    "   #\"min_child_weight\": 240,\n",
    "   \"subsample\": 0.75,\n",
    "   \"colsample_bytree\": 0.68,\n",
    "   \"max_depth\": 7,\n",
    "}\n",
    "\n",
    "print('Load data...')\n",
    "train = pd.read_csv('data/train.csv')\n",
    "target = train['target']\n",
    "train = train.drop(['ID','target'],axis=1)\n",
    "test = pd.read_csv('data/test.csv')\n",
    "ids = test['ID'].values\n",
    "test = test.drop(['ID'],axis=1)\n",
    "num_train = train.shape[0]"
   ]
  },
  {
   "cell_type": "code",
   "execution_count": 3,
   "metadata": {
    "collapsed": true
   },
   "outputs": [],
   "source": [
    "# Define a function, dummify, that will replace categorical features with dummy columns. Return the new dataset,\n",
    "# the names of the dummy columns, and the rows with null values for each categorical variable\n",
    "def dummify(name,series):\n",
    "    prefix_string = name + '_'\n",
    "    dummies = pd.get_dummies(series,prefix=prefix_string)\n",
    "    dummy_column_names = dummies.columns.values\n",
    "    #Get a list of all rows containing nulls. After dummifying these rows will just have all zeros for dummy variable\n",
    "    get_nulls = np.where(series.isnull() == True)[0].tolist()\n",
    "\n",
    "    return dummies, dummy_column_names, get_nulls\n",
    "\n",
    "def fill_nan_null(val):\n",
    "    ret_fill_nan_null = 0.0\n",
    "    if val == True:\n",
    "        ret_fill_nan_null = 1.0\n",
    "    return ret_fill_nan_null"
   ]
  },
  {
   "cell_type": "code",
   "execution_count": 4,
   "metadata": {
    "collapsed": false
   },
   "outputs": [],
   "source": [
    "# Drop features with > 0.9 correlation. Keep feature with fewest NaNs\n",
    "\n",
    "corr = train.corr()\n",
    "\n",
    "to_drop = set()\n",
    "# for col in corr.columns.values:\n",
    "#     list_correlated = corr[col][(corr[col] > 0.9) & (corr[col] < 1)].index.tolist()\n",
    "#     if len(list_correlated) > 0:\n",
    "#         sys.stdout.write(col + \": \")\n",
    "#         print list_correlated\n",
    "for col in corr.columns.values:\n",
    "    if col in to_drop:\n",
    "        continue\n",
    "\n",
    "    col_list = corr[col][(corr[col] > 0.9) & (corr[col] < 1)].index.tolist()\n",
    "    col_set = set(col_list)\n",
    "    col_set.difference_update(to_drop)\n",
    "    if (len(col_list) == 0) or (len(col_set) == 0):\n",
    "        continue\n",
    "\n",
    "    col_list.append(col)\n",
    "    lowest_na_count = train[col_list[0]].isnull().sum()\n",
    "    best_col = col_list[0]\n",
    "    for option in col_list:\n",
    "        na_count = train[option].isnull().sum()\n",
    "        if na_count < lowest_na_count:\n",
    "            lowest_na_count = na_count\n",
    "            best_col = option\n",
    "    col_list.remove(best_col)\n",
    "#     print 'dropping = ' + str(col_list)\n",
    "#     print 'keeping = ' + str(best_col)\n",
    "    to_drop.update(col_list)\n"
   ]
  },
  {
   "cell_type": "code",
   "execution_count": 5,
   "metadata": {
    "collapsed": false
   },
   "outputs": [
    {
     "name": "stdout",
     "output_type": "stream",
     "text": [
      "Adding features...\n"
     ]
    }
   ],
   "source": [
    "print \"Adding features...\"\n",
    "\n",
    "train_test_data = pd.concat([train,test],axis=0, ignore_index=True)\n",
    "\n",
    "train_test_data_types = train_test_data.dtypes[:]\n",
    "\n",
    "\n",
    "for i in range(len(train_test_data_types)):\n",
    "    train_test_data[str(train_test_data_types.index[i])+'_nan_'] = train_test_data[str(train_test_data_types.index[i])].map(lambda x:fill_nan_null(pd.isnull(x)))\n",
    "    \n",
    "train_test_data['NA_num'] = train_test_data.isnull().sum(axis=1)\n"
   ]
  },
  {
   "cell_type": "code",
   "execution_count": 6,
   "metadata": {
    "collapsed": false
   },
   "outputs": [
    {
     "name": "stdout",
     "output_type": "stream",
     "text": [
      "Drop Correlated ...\n"
     ]
    }
   ],
   "source": [
    "drop_correlated = True\n",
    "\n",
    "if drop_correlated == True:\n",
    "    print 'Drop Correlated ...'\n",
    "    train_test_data.drop(list(to_drop),axis=1, inplace = True)"
   ]
  },
  {
   "cell_type": "code",
   "execution_count": 7,
   "metadata": {
    "collapsed": false
   },
   "outputs": [],
   "source": [
    "g = train_test_data.columns.to_series().groupby(train_test_data.dtypes).groups \n",
    "g_keys = g.keys()\n",
    "categorical_columns = g[g_keys[0]]\n"
   ]
  },
  {
   "cell_type": "code",
   "execution_count": 10,
   "metadata": {
    "collapsed": false
   },
   "outputs": [
    {
     "name": "stdout",
     "output_type": "stream",
     "text": [
      "Clearing... v3\n",
      "Dummifying v24\n",
      "Dummifying v30\n",
      "Dummifying v31\n",
      "Dummifying v47\n",
      "Dummifying v52\n",
      "Dummifying v56\n",
      "Dummifying v66\n",
      "Dummifying v71\n",
      "Dummifying v74\n",
      "Dummifying v75\n",
      "Dummifying v79\n",
      "Dummifying v91\n",
      "Dummifying v107\n",
      "Dummifying v110\n",
      "Dummifying v112\n",
      "Dummifying v113\n",
      "Dummifying v125\n",
      "Fit the model...\n",
      "Training....\n"
     ]
    },
    {
     "name": "stderr",
     "output_type": "stream",
     "text": [
      "Will train until valid error hasn't decreased in 100 rounds.\n",
      "Multiple eval metrics have been passed: 'logloss' will be used for early stopping.\n",
      "\n",
      "[0]\tvalid-auc:0.728314\tvalid-error:0.225353\tvalid-map:0.890836\tvalid-logloss:0.689396\n",
      "[4]\tvalid-auc:0.743574\tvalid-error:0.219157\tvalid-map:0.897139\tvalid-logloss:0.675742\n"
     ]
    },
    {
     "name": "stdout",
     "output_type": "stream",
     "text": [
      "best score for v3 is 0.675742\n",
      "Clearing... v22\n",
      "Dummifying v3\n",
      "Dummifying v24\n",
      "Dummifying v30\n",
      "Dummifying v31\n",
      "Dummifying v47\n",
      "Dummifying v52\n",
      "Dummifying v56\n",
      "Dummifying v66\n",
      "Dummifying v71\n",
      "Dummifying v74\n",
      "Dummifying v75\n",
      "Dummifying v79\n",
      "Dummifying v91\n",
      "Dummifying v107\n",
      "Dummifying v110\n",
      "Dummifying v112\n",
      "Dummifying v113\n",
      "Dummifying v125\n",
      "Fit the model...\n",
      "Training....\n"
     ]
    },
    {
     "name": "stderr",
     "output_type": "stream",
     "text": [
      "Will train until valid error hasn't decreased in 100 rounds.\n",
      "Multiple eval metrics have been passed: 'logloss' will be used for early stopping.\n",
      "\n",
      "[0]\tvalid-auc:0.732669\tvalid-error:0.223421\tvalid-map:0.891243\tvalid-logloss:0.689376\n",
      "[4]\tvalid-auc:0.732363\tvalid-error:0.224624\tvalid-map:0.891173\tvalid-logloss:0.676586\n"
     ]
    },
    {
     "name": "stdout",
     "output_type": "stream",
     "text": [
      "best score for v22 is 0.676586\n",
      "Clearing... v24\n",
      "Dummifying v3\n",
      "Dummifying v30\n",
      "Dummifying v31\n",
      "Dummifying v47\n",
      "Dummifying v52\n",
      "Dummifying v56\n",
      "Dummifying v66\n",
      "Dummifying v71\n",
      "Dummifying v74\n",
      "Dummifying v75\n",
      "Dummifying v79\n",
      "Dummifying v91\n",
      "Dummifying v107\n",
      "Dummifying v110\n",
      "Dummifying v112\n",
      "Dummifying v113\n",
      "Dummifying v125\n",
      "Fit the model...\n",
      "Training....\n"
     ]
    },
    {
     "name": "stderr",
     "output_type": "stream",
     "text": [
      "Will train until valid error hasn't decreased in 100 rounds.\n",
      "Multiple eval metrics have been passed: 'logloss' will be used for early stopping.\n",
      "\n",
      "[0]\tvalid-auc:0.730885\tvalid-error:0.223275\tvalid-map:0.891598\tvalid-logloss:0.689381\n",
      "[4]\tvalid-auc:0.744841\tvalid-error:0.220651\tvalid-map:0.897754\tvalid-logloss:0.675541\n"
     ]
    },
    {
     "name": "stdout",
     "output_type": "stream",
     "text": [
      "best score for v24 is 0.675541\n",
      "Clearing... v30\n",
      "Dummifying v3\n",
      "Dummifying v24\n",
      "Dummifying v31\n",
      "Dummifying v47\n",
      "Dummifying v52\n",
      "Dummifying v56\n",
      "Dummifying v66\n",
      "Dummifying v71\n",
      "Dummifying v74\n",
      "Dummifying v75\n",
      "Dummifying v79\n",
      "Dummifying v91\n",
      "Dummifying v107\n",
      "Dummifying v110\n",
      "Dummifying v112\n",
      "Dummifying v113\n",
      "Dummifying v125\n",
      "Fit the model...\n",
      "Training....\n"
     ]
    },
    {
     "name": "stderr",
     "output_type": "stream",
     "text": [
      "Will train until valid error hasn't decreased in 100 rounds.\n",
      "Multiple eval metrics have been passed: 'logloss' will be used for early stopping.\n",
      "\n",
      "[0]\tvalid-auc:0.732212\tvalid-error:0.221343\tvalid-map:0.891365\tvalid-logloss:0.689360\n",
      "[4]\tvalid-auc:0.743088\tvalid-error:0.219813\tvalid-map:0.896427\tvalid-logloss:0.675729\n"
     ]
    },
    {
     "name": "stdout",
     "output_type": "stream",
     "text": [
      "best score for v30 is 0.675729\n",
      "Clearing... v31\n",
      "Dummifying v3\n",
      "Dummifying v24\n",
      "Dummifying v30\n",
      "Dummifying v47\n",
      "Dummifying v52\n",
      "Dummifying v56\n",
      "Dummifying v66\n",
      "Dummifying v71\n",
      "Dummifying v74\n",
      "Dummifying v75\n",
      "Dummifying v79\n",
      "Dummifying v91\n",
      "Dummifying v107\n",
      "Dummifying v110\n",
      "Dummifying v112\n",
      "Dummifying v113\n",
      "Dummifying v125\n",
      "Fit the model...\n",
      "Training....\n"
     ]
    },
    {
     "name": "stderr",
     "output_type": "stream",
     "text": [
      "Will train until valid error hasn't decreased in 100 rounds.\n",
      "Multiple eval metrics have been passed: 'logloss' will be used for early stopping.\n",
      "\n",
      "[0]\tvalid-auc:0.730497\tvalid-error:0.224259\tvalid-map:0.892564\tvalid-logloss:0.689412\n",
      "[4]\tvalid-auc:0.744044\tvalid-error:0.219558\tvalid-map:0.897188\tvalid-logloss:0.675698\n"
     ]
    },
    {
     "name": "stdout",
     "output_type": "stream",
     "text": [
      "best score for v31 is 0.675698\n",
      "Clearing... v47\n",
      "Dummifying v3\n",
      "Dummifying v24\n",
      "Dummifying v30\n",
      "Dummifying v31\n",
      "Dummifying v52\n",
      "Dummifying v56\n",
      "Dummifying v66\n",
      "Dummifying v71\n",
      "Dummifying v74\n",
      "Dummifying v75\n",
      "Dummifying v79\n",
      "Dummifying v91\n",
      "Dummifying v107\n",
      "Dummifying v110\n",
      "Dummifying v112\n",
      "Dummifying v113\n",
      "Dummifying v125\n",
      "Fit the model...\n",
      "Training....\n"
     ]
    },
    {
     "name": "stderr",
     "output_type": "stream",
     "text": [
      "Will train until valid error hasn't decreased in 100 rounds.\n",
      "Multiple eval metrics have been passed: 'logloss' will be used for early stopping.\n",
      "\n",
      "[0]\tvalid-auc:0.698018\tvalid-error:0.238036\tvalid-map:0.876619\tvalid-logloss:0.689734\n",
      "[4]\tvalid-auc:0.747246\tvalid-error:0.219776\tvalid-map:0.898700\tvalid-logloss:0.675828\n"
     ]
    },
    {
     "name": "stdout",
     "output_type": "stream",
     "text": [
      "best score for v47 is 0.675828\n",
      "Clearing... v52\n",
      "Dummifying v3\n",
      "Dummifying v24\n",
      "Dummifying v30\n",
      "Dummifying v31\n",
      "Dummifying v47\n",
      "Dummifying v56\n",
      "Dummifying v66\n",
      "Dummifying v71\n",
      "Dummifying v74\n",
      "Dummifying v75\n",
      "Dummifying v79\n",
      "Dummifying v91\n",
      "Dummifying v107\n",
      "Dummifying v110\n",
      "Dummifying v112\n",
      "Dummifying v113\n",
      "Dummifying v125\n",
      "Fit the model...\n",
      "Training....\n"
     ]
    },
    {
     "name": "stderr",
     "output_type": "stream",
     "text": [
      "Will train until valid error hasn't decreased in 100 rounds.\n",
      "Multiple eval metrics have been passed: 'logloss' will be used for early stopping.\n",
      "\n",
      "[0]\tvalid-auc:0.736640\tvalid-error:0.222947\tvalid-map:0.893156\tvalid-logloss:0.689364\n",
      "[4]\tvalid-auc:0.744024\tvalid-error:0.221343\tvalid-map:0.897558\tvalid-logloss:0.675941\n"
     ]
    },
    {
     "name": "stdout",
     "output_type": "stream",
     "text": [
      "best score for v52 is 0.675941\n",
      "Clearing... v56\n",
      "Dummifying v3\n",
      "Dummifying v24\n",
      "Dummifying v30\n",
      "Dummifying v31\n",
      "Dummifying v47\n",
      "Dummifying v52\n",
      "Dummifying v66\n",
      "Dummifying v71\n",
      "Dummifying v74\n",
      "Dummifying v75\n",
      "Dummifying v79\n",
      "Dummifying v91\n",
      "Dummifying v107\n",
      "Dummifying v110\n",
      "Dummifying v112\n",
      "Dummifying v113\n",
      "Dummifying v125\n",
      "Fit the model...\n",
      "Training....\n"
     ]
    },
    {
     "name": "stderr",
     "output_type": "stream",
     "text": [
      "Will train until valid error hasn't decreased in 100 rounds.\n",
      "Multiple eval metrics have been passed: 'logloss' will be used for early stopping.\n",
      "\n",
      "[0]\tvalid-auc:0.730059\tvalid-error:0.222728\tvalid-map:0.891294\tvalid-logloss:0.689383\n",
      "[4]\tvalid-auc:0.743521\tvalid-error:0.220542\tvalid-map:0.898063\tvalid-logloss:0.675672\n"
     ]
    },
    {
     "name": "stdout",
     "output_type": "stream",
     "text": [
      "best score for v56 is 0.675672\n",
      "Clearing... v66\n",
      "Dummifying v3\n",
      "Dummifying v24\n",
      "Dummifying v30\n",
      "Dummifying v31\n",
      "Dummifying v47\n",
      "Dummifying v52\n",
      "Dummifying v56\n",
      "Dummifying v71\n",
      "Dummifying v74\n",
      "Dummifying v75\n",
      "Dummifying v79\n",
      "Dummifying v91\n",
      "Dummifying v107\n",
      "Dummifying v110\n",
      "Dummifying v112\n",
      "Dummifying v113\n",
      "Dummifying v125\n",
      "Fit the model...\n",
      "Training....\n"
     ]
    },
    {
     "name": "stderr",
     "output_type": "stream",
     "text": [
      "Will train until valid error hasn't decreased in 100 rounds.\n",
      "Multiple eval metrics have been passed: 'logloss' will be used for early stopping.\n",
      "\n",
      "[0]\tvalid-auc:0.737029\tvalid-error:0.224915\tvalid-map:0.893939\tvalid-logloss:0.689342\n",
      "[4]\tvalid-auc:0.744433\tvalid-error:0.221781\tvalid-map:0.897462\tvalid-logloss:0.675888\n"
     ]
    },
    {
     "name": "stdout",
     "output_type": "stream",
     "text": [
      "best score for v66 is 0.675888\n",
      "Clearing... v71\n",
      "Dummifying v3\n",
      "Dummifying v24\n",
      "Dummifying v30\n",
      "Dummifying v31\n",
      "Dummifying v47\n",
      "Dummifying v52\n",
      "Dummifying v56\n",
      "Dummifying v66\n",
      "Dummifying v74\n",
      "Dummifying v75\n",
      "Dummifying v79\n",
      "Dummifying v91\n",
      "Dummifying v107\n",
      "Dummifying v110\n",
      "Dummifying v112\n",
      "Dummifying v113\n",
      "Dummifying v125\n",
      "Fit the model...\n",
      "Training....\n"
     ]
    },
    {
     "name": "stderr",
     "output_type": "stream",
     "text": [
      "Will train until valid error hasn't decreased in 100 rounds.\n",
      "Multiple eval metrics have been passed: 'logloss' will be used for early stopping.\n",
      "\n",
      "[0]\tvalid-auc:0.734303\tvalid-error:0.222801\tvalid-map:0.892518\tvalid-logloss:0.689361\n",
      "[4]\tvalid-auc:0.746458\tvalid-error:0.219521\tvalid-map:0.899069\tvalid-logloss:0.675437\n"
     ]
    },
    {
     "name": "stdout",
     "output_type": "stream",
     "text": [
      "best score for v71 is 0.675437\n",
      "Clearing... v74\n",
      "Dummifying v3\n",
      "Dummifying v24\n",
      "Dummifying v30\n",
      "Dummifying v31\n",
      "Dummifying v47\n",
      "Dummifying v52\n",
      "Dummifying v56\n",
      "Dummifying v66\n",
      "Dummifying v71\n",
      "Dummifying v75\n",
      "Dummifying v79\n",
      "Dummifying v91\n",
      "Dummifying v107\n",
      "Dummifying v110\n",
      "Dummifying v112\n",
      "Dummifying v113\n",
      "Dummifying v125\n",
      "Fit the model...\n",
      "Training....\n"
     ]
    },
    {
     "name": "stderr",
     "output_type": "stream",
     "text": [
      "Will train until valid error hasn't decreased in 100 rounds.\n",
      "Multiple eval metrics have been passed: 'logloss' will be used for early stopping.\n",
      "\n",
      "[0]\tvalid-auc:0.737177\tvalid-error:0.224150\tvalid-map:0.894130\tvalid-logloss:0.689342\n",
      "[4]\tvalid-auc:0.744061\tvalid-error:0.221781\tvalid-map:0.897208\tvalid-logloss:0.675947\n"
     ]
    },
    {
     "name": "stdout",
     "output_type": "stream",
     "text": [
      "best score for v74 is 0.675947\n",
      "Clearing... v75\n",
      "Dummifying v3\n",
      "Dummifying v24\n",
      "Dummifying v30\n",
      "Dummifying v31\n",
      "Dummifying v47\n",
      "Dummifying v52\n",
      "Dummifying v56\n",
      "Dummifying v66\n",
      "Dummifying v71\n",
      "Dummifying v74\n",
      "Dummifying v79\n",
      "Dummifying v91\n",
      "Dummifying v107\n",
      "Dummifying v110\n",
      "Dummifying v112\n",
      "Dummifying v113\n",
      "Dummifying v125\n",
      "Fit the model...\n",
      "Training....\n"
     ]
    },
    {
     "name": "stderr",
     "output_type": "stream",
     "text": [
      "Will train until valid error hasn't decreased in 100 rounds.\n",
      "Multiple eval metrics have been passed: 'logloss' will be used for early stopping.\n",
      "\n",
      "[0]\tvalid-auc:0.736965\tvalid-error:0.223931\tvalid-map:0.893566\tvalid-logloss:0.689359\n",
      "[4]\tvalid-auc:0.742924\tvalid-error:0.220104\tvalid-map:0.896303\tvalid-logloss:0.675774\n"
     ]
    },
    {
     "name": "stdout",
     "output_type": "stream",
     "text": [
      "best score for v75 is 0.675774\n",
      "Clearing... v79\n",
      "Dummifying v3\n",
      "Dummifying v24\n",
      "Dummifying v30\n",
      "Dummifying v31\n",
      "Dummifying v47\n",
      "Dummifying v52\n",
      "Dummifying v56\n",
      "Dummifying v66\n",
      "Dummifying v71\n",
      "Dummifying v74\n",
      "Dummifying v75\n",
      "Dummifying v91\n",
      "Dummifying v107\n",
      "Dummifying v110\n",
      "Dummifying v112\n",
      "Dummifying v113\n",
      "Dummifying v125\n",
      "Fit the model...\n",
      "Training....\n"
     ]
    },
    {
     "name": "stderr",
     "output_type": "stream",
     "text": [
      "Will train until valid error hasn't decreased in 100 rounds.\n",
      "Multiple eval metrics have been passed: 'logloss' will be used for early stopping.\n",
      "\n",
      "[0]\tvalid-auc:0.734710\tvalid-error:0.223129\tvalid-map:0.892248\tvalid-logloss:0.689383\n",
      "[4]\tvalid-auc:0.744818\tvalid-error:0.218683\tvalid-map:0.897345\tvalid-logloss:0.675079\n"
     ]
    },
    {
     "name": "stdout",
     "output_type": "stream",
     "text": [
      "best score for v79 is 0.675079\n",
      "Clearing... v91\n",
      "Dummifying v3\n",
      "Dummifying v24\n",
      "Dummifying v30\n",
      "Dummifying v31\n",
      "Dummifying v47\n",
      "Dummifying v52\n",
      "Dummifying v56\n",
      "Dummifying v66\n",
      "Dummifying v71\n",
      "Dummifying v74\n",
      "Dummifying v75\n",
      "Dummifying v79\n",
      "Dummifying v107\n",
      "Dummifying v110\n",
      "Dummifying v112\n",
      "Dummifying v113\n",
      "Dummifying v125\n",
      "Fit the model...\n",
      "Training....\n"
     ]
    },
    {
     "name": "stderr",
     "output_type": "stream",
     "text": [
      "Will train until valid error hasn't decreased in 100 rounds.\n",
      "Multiple eval metrics have been passed: 'logloss' will be used for early stopping.\n",
      "\n",
      "[0]\tvalid-auc:0.738072\tvalid-error:0.222984\tvalid-map:0.894072\tvalid-logloss:0.689367\n",
      "[4]\tvalid-auc:0.747281\tvalid-error:0.220359\tvalid-map:0.899460\tvalid-logloss:0.675410\n"
     ]
    },
    {
     "name": "stdout",
     "output_type": "stream",
     "text": [
      "best score for v91 is 0.67541\n",
      "Clearing... v107\n",
      "Dummifying v3\n",
      "Dummifying v24\n",
      "Dummifying v30\n",
      "Dummifying v31\n",
      "Dummifying v47\n",
      "Dummifying v52\n",
      "Dummifying v56\n",
      "Dummifying v66\n",
      "Dummifying v71\n",
      "Dummifying v74\n",
      "Dummifying v75\n",
      "Dummifying v79\n",
      "Dummifying v91\n",
      "Dummifying v110\n",
      "Dummifying v112\n",
      "Dummifying v113\n",
      "Dummifying v125\n",
      "Fit the model...\n",
      "Training....\n"
     ]
    },
    {
     "name": "stderr",
     "output_type": "stream",
     "text": [
      "Will train until valid error hasn't decreased in 100 rounds.\n",
      "Multiple eval metrics have been passed: 'logloss' will be used for early stopping.\n",
      "\n",
      "[0]\tvalid-auc:0.736857\tvalid-error:0.223603\tvalid-map:0.893963\tvalid-logloss:0.689370\n",
      "[4]\tvalid-auc:0.747093\tvalid-error:0.220578\tvalid-map:0.899010\tvalid-logloss:0.675416\n"
     ]
    },
    {
     "name": "stdout",
     "output_type": "stream",
     "text": [
      "best score for v107 is 0.675416\n",
      "Clearing... v110\n",
      "Dummifying v3\n",
      "Dummifying v24\n",
      "Dummifying v30\n",
      "Dummifying v31\n",
      "Dummifying v47\n",
      "Dummifying v52\n",
      "Dummifying v56\n",
      "Dummifying v66\n",
      "Dummifying v71\n",
      "Dummifying v74\n",
      "Dummifying v75\n",
      "Dummifying v79\n",
      "Dummifying v91\n",
      "Dummifying v107\n",
      "Dummifying v112\n",
      "Dummifying v113\n",
      "Dummifying v125\n",
      "Fit the model...\n",
      "Training....\n"
     ]
    },
    {
     "name": "stderr",
     "output_type": "stream",
     "text": [
      "Will train until valid error hasn't decreased in 100 rounds.\n",
      "Multiple eval metrics have been passed: 'logloss' will be used for early stopping.\n",
      "\n",
      "[0]\tvalid-auc:0.736290\tvalid-error:0.223640\tvalid-map:0.893367\tvalid-logloss:0.689355\n",
      "[4]\tvalid-auc:0.743794\tvalid-error:0.221927\tvalid-map:0.896974\tvalid-logloss:0.675943\n"
     ]
    },
    {
     "name": "stdout",
     "output_type": "stream",
     "text": [
      "best score for v110 is 0.675943\n",
      "Clearing... v112\n",
      "Dummifying v3\n",
      "Dummifying v24\n",
      "Dummifying v30\n",
      "Dummifying v31\n",
      "Dummifying v47\n",
      "Dummifying v52\n",
      "Dummifying v56\n",
      "Dummifying v66\n",
      "Dummifying v71\n",
      "Dummifying v74\n",
      "Dummifying v75\n",
      "Dummifying v79\n",
      "Dummifying v91\n",
      "Dummifying v107\n",
      "Dummifying v110\n",
      "Dummifying v113\n",
      "Dummifying v125\n",
      "Fit the model...\n",
      "Training....\n"
     ]
    },
    {
     "name": "stderr",
     "output_type": "stream",
     "text": [
      "Will train until valid error hasn't decreased in 100 rounds.\n",
      "Multiple eval metrics have been passed: 'logloss' will be used for early stopping.\n",
      "\n",
      "[0]\tvalid-auc:0.734061\tvalid-error:0.223020\tvalid-map:0.892044\tvalid-logloss:0.689398\n",
      "[4]\tvalid-auc:0.747085\tvalid-error:0.219558\tvalid-map:0.899471\tvalid-logloss:0.675497\n"
     ]
    },
    {
     "name": "stdout",
     "output_type": "stream",
     "text": [
      "best score for v112 is 0.675497\n",
      "Clearing... v113\n",
      "Dummifying v3\n",
      "Dummifying v24\n",
      "Dummifying v30\n",
      "Dummifying v31\n",
      "Dummifying v47\n",
      "Dummifying v52\n",
      "Dummifying v56\n",
      "Dummifying v66\n",
      "Dummifying v71\n",
      "Dummifying v74\n",
      "Dummifying v75\n",
      "Dummifying v79\n",
      "Dummifying v91\n",
      "Dummifying v107\n",
      "Dummifying v110\n",
      "Dummifying v112\n",
      "Dummifying v125\n",
      "Fit the model...\n",
      "Training....\n"
     ]
    },
    {
     "name": "stderr",
     "output_type": "stream",
     "text": [
      "Will train until valid error hasn't decreased in 100 rounds.\n",
      "Multiple eval metrics have been passed: 'logloss' will be used for early stopping.\n",
      "\n",
      "[0]\tvalid-auc:0.684681\tvalid-error:0.238182\tvalid-map:0.872155\tvalid-logloss:0.689789\n",
      "[4]\tvalid-auc:0.741033\tvalid-error:0.220578\tvalid-map:0.895426\tvalid-logloss:0.676049\n"
     ]
    },
    {
     "name": "stdout",
     "output_type": "stream",
     "text": [
      "best score for v113 is 0.676049\n",
      "Clearing... v125\n",
      "Dummifying v3\n",
      "Dummifying v24\n",
      "Dummifying v30\n",
      "Dummifying v31\n",
      "Dummifying v47\n",
      "Dummifying v52\n",
      "Dummifying v56\n",
      "Dummifying v66\n",
      "Dummifying v71\n",
      "Dummifying v74\n",
      "Dummifying v75\n",
      "Dummifying v79\n",
      "Dummifying v91\n",
      "Dummifying v107\n",
      "Dummifying v110\n",
      "Dummifying v112\n",
      "Dummifying v113\n",
      "Fit the model...\n",
      "Training....\n"
     ]
    },
    {
     "name": "stderr",
     "output_type": "stream",
     "text": [
      "Will train until valid error hasn't decreased in 100 rounds.\n",
      "Multiple eval metrics have been passed: 'logloss' will be used for early stopping.\n",
      "\n",
      "[0]\tvalid-auc:0.727343\tvalid-error:0.224988\tvalid-map:0.890240\tvalid-logloss:0.689442\n"
     ]
    },
    {
     "name": "stdout",
     "output_type": "stream",
     "text": [
      "best score for v125 is 0.675168\n"
     ]
    },
    {
     "name": "stderr",
     "output_type": "stream",
     "text": [
      "[4]\tvalid-auc:0.743787\tvalid-error:0.220578\tvalid-map:0.897813\tvalid-logloss:0.675168\n"
     ]
    }
   ],
   "source": [
    "best_scores = []\n",
    "for test_var in categorical_columns:\n",
    "    print'Clearing... ' + test_var \n",
    "    train_dummy_columns = {}\n",
    "    train_nulls_dict = {}\n",
    "    test_dummy_columns = {}\n",
    "    test_nulls_dict = {}\n",
    "\n",
    "    cleaned_train_test_data = train_test_data.copy()\n",
    "\n",
    "    for (train_name, train_series) in train_test_data.iteritems():\n",
    "        if (train_name == 'v22') or (train_name == test_var):\n",
    "            #v22 has too many options to dummify, instead: factorize\n",
    "            cleaned_train_test_data[train_name], tmp_indexer = pd.factorize(train_test_data[train_name])\n",
    "            #but now we have -1 values (NaN)    \n",
    "        elif train_series.dtype == 'O':\n",
    "            print 'Dummifying ' + train_name\n",
    "            cleaned_train_test_data.drop(train_name,axis=1,inplace = True)\n",
    "\n",
    "            train_dummies, train_dummy_list, train_null_list = dummify(train_name,train_series)\n",
    "            cleaned_train_test_data = pd.concat([cleaned_train_test_data,train_dummies], axis = 1)\n",
    "\n",
    "            train_dummy_columns[train_name] = train_dummy_list\n",
    "            train_nulls_dict[train_name] = train_null_list\n",
    "\n",
    "        else:\n",
    "            #for int or float: fill NaN\n",
    "            tmp_len = len(train_test_data[train_series.isnull()])\n",
    "            if tmp_len>0:\n",
    "                cleaned_train_test_data.loc[train_series.isnull(), train_name] = train_series.mean()\n",
    "\n",
    "\n",
    "    train = cleaned_train_test_data.iloc[:num_train]\n",
    "    test = cleaned_train_test_data.iloc[num_train:]\n",
    "\n",
    "    X_train, X_valid, y_train, y_valid = train_test_split(train.values, target.values, test_size=0.30, random_state = 1)\n",
    "\n",
    "    X_valid, X_itest, y_valid, y_itest = train_test_split(X_valid, y_valid, test_size=0.20, random_state = 1)\n",
    "\n",
    "    final = False\n",
    "\n",
    "    # xgtrain = xgb.DMatrix(train.values, target.values)\n",
    "    # xgtest = xgb.DMatrix(test.values)\n",
    "\n",
    "    xgtrain = xgb.DMatrix(X_train, y_train)\n",
    "    xgvalid = xgb.DMatrix(X_valid, y_valid)\n",
    "    xgtest = xgb.DMatrix(test.values)\n",
    "\n",
    "    #Now let's fit the model\n",
    "    print('Fit the model...')\n",
    "    boost_round = 5 #1800 CHANGE THIS BEFORE START\n",
    "\n",
    "    print 'Training....'\n",
    "    eval_dict = dict()\n",
    "\n",
    "    clf = xgb.train(xgboost_params, xgtrain, num_boost_round=boost_round, verbose_eval=50, maximize=False,\n",
    "                    evals_result=eval_dict, early_stopping_rounds=100, evals=[(xgvalid, 'valid')])\n",
    "\n",
    "    print 'best score for ' + test_var + ' is ' + str(clf.best_score)\n",
    "    best_scores.append(clf.best_score)\n",
    "\n",
    "\n"
   ]
  },
  {
   "cell_type": "code",
   "execution_count": 13,
   "metadata": {
    "collapsed": false
   },
   "outputs": [
    {
     "name": "stdout",
     "output_type": "stream",
     "text": [
      "[('v3', 0.675742), ('v22', 0.676586), ('v24', 0.675541), ('v30', 0.675729), ('v31', 0.675698)]\n"
     ]
    }
   ],
   "source": [
    "a = 5\n",
    "print zip(categorical_columns[:a],best_scores[:a])"
   ]
  },
  {
   "cell_type": "code",
   "execution_count": 18,
   "metadata": {
    "collapsed": false
   },
   "outputs": [
    {
     "data": {
      "text/plain": [
       "(0.6, 0.7)"
      ]
     },
     "execution_count": 18,
     "metadata": {},
     "output_type": "execute_result"
    },
    {
     "data": {
      "image/png": "[encoded data removed]",
      "text/plain": [
       "<matplotlib.figure.Figure at 0x10b9bc690>"
      ]
     },
     "metadata": {},
     "output_type": "display_data"
    }
   ],
   "source": [
    "bar = sns.barplot(categorical_columns,best_scores)\n",
    "\n",
    "axes = bar.axes\n",
    "\n",
    "axes.set_ylim(0.6,0.7)\n"
   ]
  },
  {
   "cell_type": "code",
   "execution_count": null,
   "metadata": {
    "collapsed": false
   },
   "outputs": [],
   "source": []
  },
  {
   "cell_type": "code",
   "execution_count": null,
   "metadata": {
    "collapsed": false
   },
   "outputs": [],
   "source": []
  },
  {
   "cell_type": "code",
   "execution_count": null,
   "metadata": {
    "collapsed": false
   },
   "outputs": [],
   "source": []
  },
  {
   "cell_type": "code",
   "execution_count": null,
   "metadata": {
    "collapsed": false
   },
   "outputs": [],
   "source": []
  },
  {
   "cell_type": "code",
   "execution_count": null,
   "metadata": {
    "collapsed": true
   },
   "outputs": [],
   "source": []
  }
 ],
 "metadata": {
  "kernelspec": {
   "display_name": "Python 2",
   "language": "python",
   "name": "python2"
  },
  "language_info": {
   "codemirror_mode": {
    "name": "ipython",
    "version": 2
   },
   "file_extension": ".py",
   "mimetype": "text/x-python",
   "name": "python",
   "nbconvert_exporter": "python",
   "pygments_lexer": "ipython2",
   "version": "2.7.9"
  }
 },
 "nbformat": 4,
 "nbformat_minor": 0
}
